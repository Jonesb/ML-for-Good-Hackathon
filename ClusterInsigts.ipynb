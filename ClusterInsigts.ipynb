{
 "cells": [
  {
   "cell_type": "code",
   "execution_count": 11,
   "id": "5167ebbb",
   "metadata": {},
   "outputs": [],
   "source": [
    "# Visulisation details https://www.kaggle.com/jbencina/clustering-documents-with-tfidf-and-kmeans\n",
    "# SSE (Sum of Square Error) = https://www.clusteranalysis4marketing.com/interpretation/sum-of-squared-error-sse/\n",
    "\n",
    "# Plotting PCA\n",
    "# plotting PCA (Principal Component Analysis) https://cran.r-project.org/web/packages/ggfortify/vignettes/plot_pca.html\n",
    "# TSNE - https://towardsdatascience.com/visualising-high-dimensional-datasets-using-pca-and-t-sne-in-python-8ef87e7915b\n",
    "# https://medium.com/analytics-vidhya/pca-vs-t-sne-17bcd882bf3d\n",
    "\n",
    "from sklearn.cluster import MiniBatchKMeans\n",
    "from sklearn.cluster import KMeans\n",
    "from sklearn.feature_extraction.text import TfidfVectorizer\n",
    "from sklearn.decomposition import PCA\n",
    "from sklearn.manifold import TSNE\n",
    "from sklearn.datasets import make_blobs\n",
    "\n",
    "\n",
    "import matplotlib.pyplot as plt\n",
    "import matplotlib.cm as cm\n",
    "import seaborn as sns; sns.set()  # for plot styling\n",
    "import numpy as np\n",
    "import pandas as pd\n",
    "import numpy as np\n",
    "import ipywidgets as widgets\n",
    "\n",
    "import nltk\n",
    "from nltk.tokenize import word_tokenize\n",
    "from nltk.corpus import stopwords"
   ]
  },
  {
   "cell_type": "code",
   "execution_count": 12,
   "id": "53ffcd6b",
   "metadata": {},
   "outputs": [],
   "source": [
    "\n",
    "def find_optimal_clusters(data, max_k):\n",
    "    iters = range(2, max_k+1, 2)\n",
    "    \n",
    "    sse = []\n",
    "    for k in iters:\n",
    "        sse.append(MiniBatchKMeans(n_clusters=k, init_size=1024, batch_size=2048, random_state=20).fit(data).inertia_)\n",
    "        #sse.append(KMeans(n_clusters=k, init='k-means++').fit(data).inertia_)\n",
    "        print('Fit {} clusters'.format(k))\n",
    "        \n",
    "    f, ax = plt.subplots(1, 1)\n",
    "    ax.plot(iters, sse, marker='o')\n",
    "    ax.set_xlabel('Cluster Centers')\n",
    "    ax.set_xticks(iters)\n",
    "    ax.set_xticklabels(iters)\n",
    "    ax.set_ylabel('SSE')\n",
    "    ax.set_title('SSE by Cluster Center Plot')\n",
    "    plt.show(block=True)"
   ]
  },
  {
   "cell_type": "code",
   "execution_count": 18,
   "id": "ed78056f",
   "metadata": {},
   "outputs": [
    {
     "data": {
      "application/vnd.jupyter.widget-view+json": {
       "model_id": "5d7a75c1f22b4f139ec205155b667965",
       "version_major": 2,
       "version_minor": 0
      },
      "text/plain": [
       "BoundedIntText(value=26, description='Maximum Clusters to Check:', max=60)"
      ]
     },
     "metadata": {},
     "output_type": "display_data"
    }
   ],
   "source": [
    "check_clusters = widgets.BoundedIntText(\n",
    " value=26,\n",
    " min=0,\n",
    " max=60,\n",
    " description='Maximum Clusters to Check:'\n",
    " )\n",
    "display(check_clusters)"
   ]
  },
  {
   "cell_type": "code",
   "execution_count": 21,
   "id": "e20c4de9",
   "metadata": {},
   "outputs": [
    {
     "name": "stdout",
     "output_type": "stream",
     "text": [
      "Fit 2 clusters\n",
      "Fit 4 clusters\n",
      "Fit 6 clusters\n",
      "Fit 8 clusters\n",
      "Fit 10 clusters\n"
     ]
    },
    {
     "data": {
      "image/png": "[encoded data removed]",
      "text/plain": [
       "<Figure size 432x288 with 1 Axes>"
      ]
     },
     "metadata": {},
     "output_type": "display_data"
    }
   ],
   "source": [
    "\n",
    "df = pd.read_csv('Data/CrisisLogger/crisislogger.csv')\n",
    "\n",
    "new_df=df.drop(columns='upload_id').rename(columns={'transcriptions':'DATA_COLUMN'})\n",
    "\n",
    "document = new_df['DATA_COLUMN'].to_numpy()\n",
    "\n",
    "\n",
    "vectorizer = TfidfVectorizer(stop_words='english')\n",
    "\n",
    "X = vectorizer.fit_transform(document)\n",
    "max_custers = check_clusters.value\n",
    "find_optimal_clusters(X, max_custers)"
   ]
  },
  {
   "cell_type": "code",
   "execution_count": null,
   "id": "49c7a3fc",
   "metadata": {},
   "outputs": [],
   "source": [
    "def plot_tsne_pca(data, labels):\n",
    "    max_label = max(labels)\n",
    "    max_items = np.random.choice(range(data.shape[0]), size=3000, replace=True)\n",
    "    \n",
    "    pca = PCA(n_components=2).fit_transform(data[max_items,:].todense())\n",
    "    tsne = TSNE().fit_transform(PCA(n_components=50).fit_transform(data[max_items,:].todense()))\n",
    "    \n",
    "    \n",
    "    idx = np.random.choice(range(pca.shape[0]), size=300, replace=False)\n",
    "    label_subset = labels[max_items]\n",
    "    label_subset = [cm.hsv(i/max_label) for i in label_subset[idx]]\n",
    "    \n",
    "    f, ax = plt.subplots(1, 2, figsize=(14, 6))\n",
    "    \n",
    "    ax[0].scatter(pca[idx, 0], pca[idx, 1], c=label_subset)\n",
    "    ax[0].set_title('PCA Cluster Plot')\n",
    "    \n",
    "    ax[1].scatter(tsne[idx, 0], tsne[idx, 1], c=label_subset)\n",
    "    ax[1].set_title('TSNE Cluster Plot')\n",
    "    plt.show(block=True)\n"
   ]
  },
  {
   "cell_type": "code",
   "execution_count": null,
   "id": "d0609376",
   "metadata": {},
   "outputs": [],
   "source": [
    "cluster_count = widgets.BoundedIntText(\n",
    " value=26,\n",
    " min=0,\n",
    " max=60,\n",
    " description='Maximum Clusters to Check:'\n",
    " )\n",
    "display(cluster_count)"
   ]
  },
  {
   "cell_type": "code",
   "execution_count": null,
   "id": "c02e27a5",
   "metadata": {},
   "outputs": [],
   "source": [
    "    \n",
    "true_k = 8\n",
    "\n",
    "clusters = MiniBatchKMeans(n_clusters=true_k, init_size=1024, batch_size=2048, random_state=20).fit_predict(X)\n",
    "\n",
    "plot_tsne_pca(X, clusters)"
   ]
  }
 ],
 "metadata": {
  "kernelspec": {
   "display_name": "Python 3",
   "language": "python",
   "name": "python3"
  },
  "language_info": {
   "codemirror_mode": {
    "name": "ipython",
    "version": 3
   },
   "file_extension": ".py",
   "mimetype": "text/x-python",
   "name": "python",
   "nbconvert_exporter": "python",
   "pygments_lexer": "ipython3",
   "version": "3.8.8"
  }
 },
 "nbformat": 4,
 "nbformat_minor": 5
}
